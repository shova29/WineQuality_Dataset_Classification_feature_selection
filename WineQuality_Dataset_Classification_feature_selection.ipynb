{
  "nbformat": 4,
  "nbformat_minor": 0,
  "metadata": {
    "colab": {
      "name": "WineQuality_Dataset_Classification_feature_selection.ipynb",
      "provenance": [],
      "collapsed_sections": []
    },
    "kernelspec": {
      "name": "python3",
      "display_name": "Python 3"
    }
  },
  "cells": [
    {
      "cell_type": "markdown",
      "metadata": {
        "id": "8xkY9jTazVwm"
      },
      "source": [
        "**Mounting The Google-Drive**"
      ]
    },
    {
      "cell_type": "code",
      "metadata": {
        "colab": {
          "base_uri": "https://localhost:8080/"
        },
        "id": "DOjU7XBc9IE5",
        "outputId": "98bc1b1d-f175-4fef-b317-cf60a20682a1"
      },
      "source": [
        "from google.colab import drive\n",
        "drive.mount('/content/drive')"
      ],
      "execution_count": null,
      "outputs": [
        {
          "output_type": "stream",
          "text": [
            "Drive already mounted at /content/drive; to attempt to forcibly remount, call drive.mount(\"/content/drive\", force_remount=True).\n"
          ],
          "name": "stdout"
        }
      ]
    },
    {
      "cell_type": "markdown",
      "metadata": {
        "id": "UeHzsN2taCKS"
      },
      "source": [
        "**Importing pandas to read a dataset, matplotlib,seaborn import for plotting and libraries**"
      ]
    },
    {
      "cell_type": "code",
      "metadata": {
        "id": "BGyFCrjdoKJP"
      },
      "source": [
        "import pandas as pd\n",
        "import graphviz\n",
        "from sklearn.preprocessing import LabelEncoder\n",
        "from sklearn.tree import DecisionTreeClassifier, export_graphviz\n",
        "from sklearn.model_selection import train_test_split\n",
        "from sklearn.metrics import accuracy_score\n",
        "from sklearn.metrics import classification_report\n",
        "from sklearn.metrics import confusion_matrix\n",
        "\n",
        "import pandas as pd\n",
        "from sklearn.linear_model import LinearRegression\n",
        "from sklearn.model_selection import train_test_split\n",
        "from numpy import set_printoptions\n",
        "from sklearn.feature_selection import SelectKBest\n",
        "from sklearn.feature_selection import chi2\n",
        "from sklearn.feature_selection import RFE\n",
        "from sklearn.model_selection import train_test_split\n",
        "from sklearn.metrics import classification_report\n",
        "from sklearn.metrics import confusion_matrix\n",
        "from sklearn.linear_model import LogisticRegression\n",
        "from sklearn.tree import DecisionTreeClassifier\n",
        "from sklearn.ensemble import RandomForestClassifier\n",
        "\n",
        "from sklearn.metrics import plot_roc_curve\n",
        "from sklearn.svm import SVC\n",
        "import matplotlib.pyplot as plt\n",
        "\n",
        "from sklearn.externals.six import StringIO  \n",
        "from IPython.display import Image  \n",
        "from sklearn.tree import export_graphviz\n",
        "import pydotplus\n",
        "from sklearn.neighbors import KNeighborsClassifier"
      ],
      "execution_count": null,
      "outputs": []
    },
    {
      "cell_type": "markdown",
      "metadata": {
        "id": "Ok9RIaIPEELh"
      },
      "source": [
        "**To read the WineQuality-Dataset**"
      ]
    },
    {
      "cell_type": "code",
      "metadata": {
        "colab": {
          "base_uri": "https://localhost:8080/"
        },
        "id": "xdENEElNubsa",
        "outputId": "ff420d2f-1847-4cff-d6a8-333a34926dd6"
      },
      "source": [
        "data=pd.read_csv('/content/drive/MyDrive/Colab Notebooks/winequality-red.csv')\n",
        "print(data)"
      ],
      "execution_count": null,
      "outputs": [
        {
          "output_type": "stream",
          "text": [
            "      fixed acidity  volatile acidity  citric acid  ...  sulphates  alcohol  quality\n",
            "0               7.4             0.700         0.00  ...       0.56      9.4        5\n",
            "1               7.8             0.880         0.00  ...       0.68      9.8        5\n",
            "2               7.8             0.760         0.04  ...       0.65      9.8        5\n",
            "3              11.2             0.280         0.56  ...       0.58      9.8        6\n",
            "4               7.4             0.700         0.00  ...       0.56      9.4        5\n",
            "...             ...               ...          ...  ...        ...      ...      ...\n",
            "1594            6.2             0.600         0.08  ...       0.58     10.5        5\n",
            "1595            5.9             0.550         0.10  ...       0.76     11.2        6\n",
            "1596            6.3             0.510         0.13  ...       0.75     11.0        6\n",
            "1597            5.9             0.645         0.12  ...       0.71     10.2        5\n",
            "1598            6.0             0.310         0.47  ...       0.66     11.0        6\n",
            "\n",
            "[1599 rows x 12 columns]\n"
          ],
          "name": "stdout"
        }
      ]
    },
    {
      "cell_type": "markdown",
      "metadata": {
        "id": "i_gpVBIMage9"
      },
      "source": [
        "**To Generate descriptive Statistics Information through describe() method**"
      ]
    },
    {
      "cell_type": "code",
      "metadata": {
        "colab": {
          "base_uri": "https://localhost:8080/",
          "height": 318
        },
        "id": "itmI7g5SEKjm",
        "outputId": "b43e799d-ad5b-409e-f98b-7c88c1887bc0"
      },
      "source": [
        "data.describe()"
      ],
      "execution_count": null,
      "outputs": [
        {
          "output_type": "execute_result",
          "data": {
            "text/html": [
              "<div>\n",
              "<style scoped>\n",
              "    .dataframe tbody tr th:only-of-type {\n",
              "        vertical-align: middle;\n",
              "    }\n",
              "\n",
              "    .dataframe tbody tr th {\n",
              "        vertical-align: top;\n",
              "    }\n",
              "\n",
              "    .dataframe thead th {\n",
              "        text-align: right;\n",
              "    }\n",
              "</style>\n",
              "<table border=\"1\" class=\"dataframe\">\n",
              "  <thead>\n",
              "    <tr style=\"text-align: right;\">\n",
              "      <th></th>\n",
              "      <th>fixed acidity</th>\n",
              "      <th>volatile acidity</th>\n",
              "      <th>citric acid</th>\n",
              "      <th>residual sugar</th>\n",
              "      <th>chlorides</th>\n",
              "      <th>free sulfur dioxide</th>\n",
              "      <th>total sulfur dioxide</th>\n",
              "      <th>density</th>\n",
              "      <th>pH</th>\n",
              "      <th>sulphates</th>\n",
              "      <th>alcohol</th>\n",
              "      <th>quality</th>\n",
              "    </tr>\n",
              "  </thead>\n",
              "  <tbody>\n",
              "    <tr>\n",
              "      <th>count</th>\n",
              "      <td>1599.000000</td>\n",
              "      <td>1599.000000</td>\n",
              "      <td>1599.000000</td>\n",
              "      <td>1599.000000</td>\n",
              "      <td>1599.000000</td>\n",
              "      <td>1599.000000</td>\n",
              "      <td>1599.000000</td>\n",
              "      <td>1599.000000</td>\n",
              "      <td>1599.000000</td>\n",
              "      <td>1599.000000</td>\n",
              "      <td>1599.000000</td>\n",
              "      <td>1599.000000</td>\n",
              "    </tr>\n",
              "    <tr>\n",
              "      <th>mean</th>\n",
              "      <td>8.319637</td>\n",
              "      <td>0.527821</td>\n",
              "      <td>0.270976</td>\n",
              "      <td>2.538806</td>\n",
              "      <td>0.087467</td>\n",
              "      <td>15.874922</td>\n",
              "      <td>46.467792</td>\n",
              "      <td>0.996747</td>\n",
              "      <td>3.311113</td>\n",
              "      <td>0.658149</td>\n",
              "      <td>10.422983</td>\n",
              "      <td>5.636023</td>\n",
              "    </tr>\n",
              "    <tr>\n",
              "      <th>std</th>\n",
              "      <td>1.741096</td>\n",
              "      <td>0.179060</td>\n",
              "      <td>0.194801</td>\n",
              "      <td>1.409928</td>\n",
              "      <td>0.047065</td>\n",
              "      <td>10.460157</td>\n",
              "      <td>32.895324</td>\n",
              "      <td>0.001887</td>\n",
              "      <td>0.154386</td>\n",
              "      <td>0.169507</td>\n",
              "      <td>1.065668</td>\n",
              "      <td>0.807569</td>\n",
              "    </tr>\n",
              "    <tr>\n",
              "      <th>min</th>\n",
              "      <td>4.600000</td>\n",
              "      <td>0.120000</td>\n",
              "      <td>0.000000</td>\n",
              "      <td>0.900000</td>\n",
              "      <td>0.012000</td>\n",
              "      <td>1.000000</td>\n",
              "      <td>6.000000</td>\n",
              "      <td>0.990070</td>\n",
              "      <td>2.740000</td>\n",
              "      <td>0.330000</td>\n",
              "      <td>8.400000</td>\n",
              "      <td>3.000000</td>\n",
              "    </tr>\n",
              "    <tr>\n",
              "      <th>25%</th>\n",
              "      <td>7.100000</td>\n",
              "      <td>0.390000</td>\n",
              "      <td>0.090000</td>\n",
              "      <td>1.900000</td>\n",
              "      <td>0.070000</td>\n",
              "      <td>7.000000</td>\n",
              "      <td>22.000000</td>\n",
              "      <td>0.995600</td>\n",
              "      <td>3.210000</td>\n",
              "      <td>0.550000</td>\n",
              "      <td>9.500000</td>\n",
              "      <td>5.000000</td>\n",
              "    </tr>\n",
              "    <tr>\n",
              "      <th>50%</th>\n",
              "      <td>7.900000</td>\n",
              "      <td>0.520000</td>\n",
              "      <td>0.260000</td>\n",
              "      <td>2.200000</td>\n",
              "      <td>0.079000</td>\n",
              "      <td>14.000000</td>\n",
              "      <td>38.000000</td>\n",
              "      <td>0.996750</td>\n",
              "      <td>3.310000</td>\n",
              "      <td>0.620000</td>\n",
              "      <td>10.200000</td>\n",
              "      <td>6.000000</td>\n",
              "    </tr>\n",
              "    <tr>\n",
              "      <th>75%</th>\n",
              "      <td>9.200000</td>\n",
              "      <td>0.640000</td>\n",
              "      <td>0.420000</td>\n",
              "      <td>2.600000</td>\n",
              "      <td>0.090000</td>\n",
              "      <td>21.000000</td>\n",
              "      <td>62.000000</td>\n",
              "      <td>0.997835</td>\n",
              "      <td>3.400000</td>\n",
              "      <td>0.730000</td>\n",
              "      <td>11.100000</td>\n",
              "      <td>6.000000</td>\n",
              "    </tr>\n",
              "    <tr>\n",
              "      <th>max</th>\n",
              "      <td>15.900000</td>\n",
              "      <td>1.580000</td>\n",
              "      <td>1.000000</td>\n",
              "      <td>15.500000</td>\n",
              "      <td>0.611000</td>\n",
              "      <td>72.000000</td>\n",
              "      <td>289.000000</td>\n",
              "      <td>1.003690</td>\n",
              "      <td>4.010000</td>\n",
              "      <td>2.000000</td>\n",
              "      <td>14.900000</td>\n",
              "      <td>8.000000</td>\n",
              "    </tr>\n",
              "  </tbody>\n",
              "</table>\n",
              "</div>"
            ],
            "text/plain": [
              "       fixed acidity  volatile acidity  ...      alcohol      quality\n",
              "count    1599.000000       1599.000000  ...  1599.000000  1599.000000\n",
              "mean        8.319637          0.527821  ...    10.422983     5.636023\n",
              "std         1.741096          0.179060  ...     1.065668     0.807569\n",
              "min         4.600000          0.120000  ...     8.400000     3.000000\n",
              "25%         7.100000          0.390000  ...     9.500000     5.000000\n",
              "50%         7.900000          0.520000  ...    10.200000     6.000000\n",
              "75%         9.200000          0.640000  ...    11.100000     6.000000\n",
              "max        15.900000          1.580000  ...    14.900000     8.000000\n",
              "\n",
              "[8 rows x 12 columns]"
            ]
          },
          "metadata": {
            "tags": []
          },
          "execution_count": 79
        }
      ]
    },
    {
      "cell_type": "markdown",
      "metadata": {
        "id": "mkG3aL4nahgL"
      },
      "source": [
        "**To Findout the top-rows of data of WineQuality-Dataset**"
      ]
    },
    {
      "cell_type": "code",
      "metadata": {
        "colab": {
          "base_uri": "https://localhost:8080/",
          "height": 206
        },
        "id": "L5bpSPlXEPaO",
        "outputId": "5aef4f9d-47f0-4860-854c-4566ab4d206a"
      },
      "source": [
        "data.head()"
      ],
      "execution_count": null,
      "outputs": [
        {
          "output_type": "execute_result",
          "data": {
            "text/html": [
              "<div>\n",
              "<style scoped>\n",
              "    .dataframe tbody tr th:only-of-type {\n",
              "        vertical-align: middle;\n",
              "    }\n",
              "\n",
              "    .dataframe tbody tr th {\n",
              "        vertical-align: top;\n",
              "    }\n",
              "\n",
              "    .dataframe thead th {\n",
              "        text-align: right;\n",
              "    }\n",
              "</style>\n",
              "<table border=\"1\" class=\"dataframe\">\n",
              "  <thead>\n",
              "    <tr style=\"text-align: right;\">\n",
              "      <th></th>\n",
              "      <th>fixed acidity</th>\n",
              "      <th>volatile acidity</th>\n",
              "      <th>citric acid</th>\n",
              "      <th>residual sugar</th>\n",
              "      <th>chlorides</th>\n",
              "      <th>free sulfur dioxide</th>\n",
              "      <th>total sulfur dioxide</th>\n",
              "      <th>density</th>\n",
              "      <th>pH</th>\n",
              "      <th>sulphates</th>\n",
              "      <th>alcohol</th>\n",
              "      <th>quality</th>\n",
              "    </tr>\n",
              "  </thead>\n",
              "  <tbody>\n",
              "    <tr>\n",
              "      <th>0</th>\n",
              "      <td>7.4</td>\n",
              "      <td>0.70</td>\n",
              "      <td>0.00</td>\n",
              "      <td>1.9</td>\n",
              "      <td>0.076</td>\n",
              "      <td>11.0</td>\n",
              "      <td>34.0</td>\n",
              "      <td>0.9978</td>\n",
              "      <td>3.51</td>\n",
              "      <td>0.56</td>\n",
              "      <td>9.4</td>\n",
              "      <td>5</td>\n",
              "    </tr>\n",
              "    <tr>\n",
              "      <th>1</th>\n",
              "      <td>7.8</td>\n",
              "      <td>0.88</td>\n",
              "      <td>0.00</td>\n",
              "      <td>2.6</td>\n",
              "      <td>0.098</td>\n",
              "      <td>25.0</td>\n",
              "      <td>67.0</td>\n",
              "      <td>0.9968</td>\n",
              "      <td>3.20</td>\n",
              "      <td>0.68</td>\n",
              "      <td>9.8</td>\n",
              "      <td>5</td>\n",
              "    </tr>\n",
              "    <tr>\n",
              "      <th>2</th>\n",
              "      <td>7.8</td>\n",
              "      <td>0.76</td>\n",
              "      <td>0.04</td>\n",
              "      <td>2.3</td>\n",
              "      <td>0.092</td>\n",
              "      <td>15.0</td>\n",
              "      <td>54.0</td>\n",
              "      <td>0.9970</td>\n",
              "      <td>3.26</td>\n",
              "      <td>0.65</td>\n",
              "      <td>9.8</td>\n",
              "      <td>5</td>\n",
              "    </tr>\n",
              "    <tr>\n",
              "      <th>3</th>\n",
              "      <td>11.2</td>\n",
              "      <td>0.28</td>\n",
              "      <td>0.56</td>\n",
              "      <td>1.9</td>\n",
              "      <td>0.075</td>\n",
              "      <td>17.0</td>\n",
              "      <td>60.0</td>\n",
              "      <td>0.9980</td>\n",
              "      <td>3.16</td>\n",
              "      <td>0.58</td>\n",
              "      <td>9.8</td>\n",
              "      <td>6</td>\n",
              "    </tr>\n",
              "    <tr>\n",
              "      <th>4</th>\n",
              "      <td>7.4</td>\n",
              "      <td>0.70</td>\n",
              "      <td>0.00</td>\n",
              "      <td>1.9</td>\n",
              "      <td>0.076</td>\n",
              "      <td>11.0</td>\n",
              "      <td>34.0</td>\n",
              "      <td>0.9978</td>\n",
              "      <td>3.51</td>\n",
              "      <td>0.56</td>\n",
              "      <td>9.4</td>\n",
              "      <td>5</td>\n",
              "    </tr>\n",
              "  </tbody>\n",
              "</table>\n",
              "</div>"
            ],
            "text/plain": [
              "   fixed acidity  volatile acidity  citric acid  ...  sulphates  alcohol  quality\n",
              "0            7.4              0.70         0.00  ...       0.56      9.4        5\n",
              "1            7.8              0.88         0.00  ...       0.68      9.8        5\n",
              "2            7.8              0.76         0.04  ...       0.65      9.8        5\n",
              "3           11.2              0.28         0.56  ...       0.58      9.8        6\n",
              "4            7.4              0.70         0.00  ...       0.56      9.4        5\n",
              "\n",
              "[5 rows x 12 columns]"
            ]
          },
          "metadata": {
            "tags": []
          },
          "execution_count": 80
        }
      ]
    },
    {
      "cell_type": "markdown",
      "metadata": {
        "id": "jiwCmRTwaipJ"
      },
      "source": [
        "**To find any null values in the data**"
      ]
    },
    {
      "cell_type": "code",
      "metadata": {
        "colab": {
          "base_uri": "https://localhost:8080/"
        },
        "id": "0XWHdQo5EU3f",
        "outputId": "99b99d4e-fcbf-45a2-b590-d4e2160f4288"
      },
      "source": [
        "data.isnull().sum()"
      ],
      "execution_count": null,
      "outputs": [
        {
          "output_type": "execute_result",
          "data": {
            "text/plain": [
              "fixed acidity           0\n",
              "volatile acidity        0\n",
              "citric acid             0\n",
              "residual sugar          0\n",
              "chlorides               0\n",
              "free sulfur dioxide     0\n",
              "total sulfur dioxide    0\n",
              "density                 0\n",
              "pH                      0\n",
              "sulphates               0\n",
              "alcohol                 0\n",
              "quality                 0\n",
              "dtype: int64"
            ]
          },
          "metadata": {
            "tags": []
          },
          "execution_count": 81
        }
      ]
    },
    {
      "cell_type": "code",
      "metadata": {
        "colab": {
          "base_uri": "https://localhost:8080/"
        },
        "id": "jFexs3OnvFun",
        "outputId": "e1d70fdf-40b2-4ce8-dc7f-6f87fad83d07"
      },
      "source": [
        "data.shape"
      ],
      "execution_count": null,
      "outputs": [
        {
          "output_type": "execute_result",
          "data": {
            "text/plain": [
              "(1599, 12)"
            ]
          },
          "metadata": {
            "tags": []
          },
          "execution_count": 82
        }
      ]
    },
    {
      "cell_type": "code",
      "metadata": {
        "colab": {
          "base_uri": "https://localhost:8080/"
        },
        "id": "E5rmNh4p_MmK",
        "outputId": "d71e0581-bf16-40c6-e6b8-3e0ab4c47d0e"
      },
      "source": [
        "data.groupby('quality').size()"
      ],
      "execution_count": null,
      "outputs": [
        {
          "output_type": "execute_result",
          "data": {
            "text/plain": [
              "quality\n",
              "3     10\n",
              "4     53\n",
              "5    681\n",
              "6    638\n",
              "7    199\n",
              "8     18\n",
              "dtype: int64"
            ]
          },
          "metadata": {
            "tags": []
          },
          "execution_count": 83
        }
      ]
    },
    {
      "cell_type": "markdown",
      "metadata": {
        "id": "nYHaQUcGaj9q"
      },
      "source": [
        "**To convert the numerical values into array in a DataFrame:**"
      ]
    },
    {
      "cell_type": "code",
      "metadata": {
        "id": "mRm9Ga9qIdX_",
        "colab": {
          "base_uri": "https://localhost:8080/"
        },
        "outputId": "f106be39-20c9-4af5-c43e-4867ab332ce9"
      },
      "source": [
        "a=data.values\n",
        "print(a)"
      ],
      "execution_count": null,
      "outputs": [
        {
          "output_type": "stream",
          "text": [
            "[[ 7.4    0.7    0.    ...  0.56   9.4    5.   ]\n",
            " [ 7.8    0.88   0.    ...  0.68   9.8    5.   ]\n",
            " [ 7.8    0.76   0.04  ...  0.65   9.8    5.   ]\n",
            " ...\n",
            " [ 6.3    0.51   0.13  ...  0.75  11.     6.   ]\n",
            " [ 5.9    0.645  0.12  ...  0.71  10.2    5.   ]\n",
            " [ 6.     0.31   0.47  ...  0.66  11.     6.   ]]\n"
          ],
          "name": "stdout"
        }
      ]
    },
    {
      "cell_type": "markdown",
      "metadata": {
        "id": "QBgg9I6Vak3m"
      },
      "source": [
        "**To dispaly the first 3 rows of X:**"
      ]
    },
    {
      "cell_type": "code",
      "metadata": {
        "id": "b5PKfbhdIw1M"
      },
      "source": [
        "X=a[:,0:-1]\n",
        "Y=a[:,11]"
      ],
      "execution_count": null,
      "outputs": []
    },
    {
      "cell_type": "markdown",
      "metadata": {
        "id": "5w0m3PN9amnh"
      },
      "source": [
        "**Splitting the dataset into 70:30**"
      ]
    },
    {
      "cell_type": "code",
      "metadata": {
        "colab": {
          "base_uri": "https://localhost:8080/"
        },
        "id": "qpwl6Nwsseq4",
        "outputId": "6cec04e0-3fcb-41da-8ecb-84df536ee667"
      },
      "source": [
        "X = data.drop('quality', axis=1)\n",
        "Y= data['quality']\n",
        "X_train, X_test, y_train, y_test = train_test_split(X, Y, test_size=0.20, stratify=Y, random_state=42)\n",
        "y_test.value_counts()"
      ],
      "execution_count": null,
      "outputs": [
        {
          "output_type": "execute_result",
          "data": {
            "text/plain": [
              "5    136\n",
              "6    128\n",
              "7     40\n",
              "4     11\n",
              "8      3\n",
              "3      2\n",
              "Name: quality, dtype: int64"
            ]
          },
          "metadata": {
            "tags": []
          },
          "execution_count": 86
        }
      ]
    },
    {
      "cell_type": "code",
      "metadata": {
        "colab": {
          "base_uri": "https://localhost:8080/"
        },
        "id": "ktqbvqX6_6xb",
        "outputId": "ce02898d-116c-4e66-d05a-76f9bdecd007"
      },
      "source": [
        "X.shape"
      ],
      "execution_count": null,
      "outputs": [
        {
          "output_type": "execute_result",
          "data": {
            "text/plain": [
              "(1599, 11)"
            ]
          },
          "metadata": {
            "tags": []
          },
          "execution_count": 87
        }
      ]
    },
    {
      "cell_type": "markdown",
      "metadata": {
        "id": "7H5bIdvI8xKV"
      },
      "source": [
        "**Decision-Tree Algorithm:**\n",
        "It is a graphical representation for getting all the possible solutions to a problem/decision based on given conditions.. It is a tree-structured classifier, where internal nodes represent the features of a dataset, branches represent the decision rules and each leaf node represents the outcome."
      ]
    },
    {
      "cell_type": "markdown",
      "metadata": {
        "id": "PwVANYyacBDZ"
      },
      "source": [
        "**To Train Decision-Tree Model**"
      ]
    },
    {
      "cell_type": "code",
      "metadata": {
        "id": "MGt7JRpP0gfL"
      },
      "source": [
        "tree = DecisionTreeClassifier(criterion='gini',min_samples_leaf=5,min_samples_split=5,max_depth=None,random_state=42)\n",
        "clf=tree.fit(X_train, y_train)\n",
        "pred = clf.predict(X_test)"
      ],
      "execution_count": null,
      "outputs": []
    },
    {
      "cell_type": "markdown",
      "metadata": {
        "id": "cxlxfchUccar"
      },
      "source": [
        " **To see the accuracy and classification-report of the DT model through Classification-Performance Metrics.**"
      ]
    },
    {
      "cell_type": "code",
      "metadata": {
        "colab": {
          "base_uri": "https://localhost:8080/"
        },
        "id": "dh8C8doI43wk",
        "outputId": "fce24617-4eb2-4e4c-8fdb-fb33aacddb30"
      },
      "source": [
        "accuracy = accuracy_score(y_test, pred)\n",
        "print(classification_report(y_test,pred))\n",
        "print('DecisionTreeClassifier Accuracy Score: ',accuracy)"
      ],
      "execution_count": null,
      "outputs": [
        {
          "output_type": "stream",
          "text": [
            "              precision    recall  f1-score   support\n",
            "\n",
            "           3       0.00      0.00      0.00         2\n",
            "           4       0.25      0.18      0.21        11\n",
            "           5       0.65      0.65      0.65       136\n",
            "           6       0.58      0.62      0.60       128\n",
            "           7       0.54      0.50      0.52        40\n",
            "           8       0.00      0.00      0.00         3\n",
            "\n",
            "    accuracy                           0.59       320\n",
            "   macro avg       0.34      0.33      0.33       320\n",
            "weighted avg       0.58      0.59      0.59       320\n",
            "\n",
            "DecisionTreeClassifier Accuracy Score:  0.59375\n"
          ],
          "name": "stdout"
        },
        {
          "output_type": "stream",
          "text": [
            "/usr/local/lib/python3.7/dist-packages/sklearn/metrics/_classification.py:1272: UndefinedMetricWarning: Precision and F-score are ill-defined and being set to 0.0 in labels with no predicted samples. Use `zero_division` parameter to control this behavior.\n",
            "  _warn_prf(average, modifier, msg_start, len(result))\n"
          ],
          "name": "stderr"
        }
      ]
    },
    {
      "cell_type": "markdown",
      "metadata": {
        "id": "Hcd56BnGdm8y"
      },
      "source": [
        "**The scikit-learn machine library provides an implementation of the correlation statistic in the ch2 function. This function can be used in a feature selection strategy, such as selecting the top k most relevant features (largest values) via the SelectKBest class.**"
      ]
    },
    {
      "cell_type": "code",
      "metadata": {
        "colab": {
          "base_uri": "https://localhost:8080/"
        },
        "id": "9EsmoUA49Zi7",
        "outputId": "26b095d7-816b-44a1-afa4-361810b6dc79"
      },
      "source": [
        "testing=SelectKBest(chi2,k='all')\n",
        "score=testing.fit(X,Y)\n",
        "set_printoptions(precision=4)\n",
        "print(score.scores_)"
      ],
      "execution_count": null,
      "outputs": [
        {
          "output_type": "stream",
          "text": [
            "[1.1261e+01 1.5580e+01 1.3026e+01 4.1233e+00 7.5243e-01 1.6194e+02\n",
            " 2.7556e+03 2.3043e-04 1.5465e-01 4.5585e+00 4.6430e+01]\n"
          ],
          "name": "stdout"
        }
      ]
    },
    {
      "cell_type": "code",
      "metadata": {
        "id": "FBAdJhN6-u9_"
      },
      "source": [
        "X=a[:,0:-1]\n",
        "Y=a[:,11]"
      ],
      "execution_count": null,
      "outputs": []
    },
    {
      "cell_type": "markdown",
      "metadata": {
        "id": "Y61062ocdzAd"
      },
      "source": [
        "To features the goal of recursive feature elimination (RFE) is to select features by recursively considering smaller and smaller sets of features. First, the estimator is trained on the initial set of features and the importance of each feature is obtained either through any specific attribute or callable. Then, the least important features are pruned from current set of features. That procedure is recursively repeated on the pruned set until the desired number of features to select is eventually reached.\n",
        "\n",
        "**Selecting best features for Decision-tree classifier:**"
      ]
    },
    {
      "cell_type": "code",
      "metadata": {
        "colab": {
          "base_uri": "https://localhost:8080/"
        },
        "id": "MltjPNzY8M9e",
        "outputId": "a7c4a655-7a91-4db2-bc7d-ac0b59076493"
      },
      "source": [
        "model= DecisionTreeClassifier()\n",
        "rfe = RFE(model, 5)\n",
        "fit = rfe.fit(X, Y)\n",
        "print(\"Num Features: \", fit.n_features_)\n",
        "print(\"Selected Features: \",fit.support_)\n",
        "print(\"Feature Ranking: \",fit.ranking_)\n",
        "\n",
        "rfe = RFE(model, 4)\n",
        "fit = rfe.fit(X, Y)\n",
        "print(\"Num Features: \", fit.n_features_)\n",
        "print(\"Selected Features: \",fit.support_)\n",
        "print(\"Feature Ranking: \",fit.ranking_)\n",
        "\n",
        "rfe = RFE(model, 3)\n",
        "fit = rfe.fit(X, Y)\n",
        "print(\"Num Features: \", fit.n_features_)\n",
        "print(\"Selected Features: \",fit.support_)\n",
        "print(\"Feature Ranking: \",fit.ranking_)"
      ],
      "execution_count": null,
      "outputs": [
        {
          "output_type": "stream",
          "text": [
            "Num Features:  5\n",
            "Selected Features:  [False  True False  True False False  True False False  True  True]\n",
            "Feature Ranking:  [6 1 3 1 2 5 1 7 4 1 1]\n",
            "Num Features:  4\n",
            "Selected Features:  [False  True False False False False  True False False  True  True]\n",
            "Feature Ranking:  [8 1 5 2 4 7 1 3 6 1 1]\n",
            "Num Features:  3\n",
            "Selected Features:  [False False False False False False  True False False  True  True]\n",
            "Feature Ranking:  [7 2 9 4 6 8 1 3 5 1 1]\n"
          ],
          "name": "stdout"
        }
      ]
    },
    {
      "cell_type": "code",
      "metadata": {
        "colab": {
          "base_uri": "https://localhost:8080/"
        },
        "id": "eIbc1Hd88VOO",
        "outputId": "fd03b6c0-6ce5-47a5-9a46-2a15520bec90"
      },
      "source": [
        "X=a[:,[3,4,6,9,10]]\n",
        "X_train,X_test, Y_train, Y_test=train_test_split(X,Y, test_size=0.2,random_state=42)\n",
        "lm= DecisionTreeClassifier() \n",
        "tree_model=lm.fit(X_train,Y_train)\n",
        "y_pred=tree_model.predict(X_test)\n",
        "print(confusion_matrix(Y_test,y_pred))\n",
        "print(classification_report(Y_test,y_pred))"
      ],
      "execution_count": null,
      "outputs": [
        {
          "output_type": "stream",
          "text": [
            "[[ 0  0  1  0  0  0]\n",
            " [ 0  0  5  4  1  0]\n",
            " [ 1  3 93 29  4  0]\n",
            " [ 1  1 33 75 21  1]\n",
            " [ 0  1  5 17 18  1]\n",
            " [ 0  0  0  2  3  0]]\n",
            "              precision    recall  f1-score   support\n",
            "\n",
            "         3.0       0.00      0.00      0.00         1\n",
            "         4.0       0.00      0.00      0.00        10\n",
            "         5.0       0.68      0.72      0.70       130\n",
            "         6.0       0.59      0.57      0.58       132\n",
            "         7.0       0.38      0.43      0.40        42\n",
            "         8.0       0.00      0.00      0.00         5\n",
            "\n",
            "    accuracy                           0.58       320\n",
            "   macro avg       0.28      0.29      0.28       320\n",
            "weighted avg       0.57      0.58      0.57       320\n",
            "\n"
          ],
          "name": "stdout"
        }
      ]
    },
    {
      "cell_type": "markdown",
      "metadata": {
        "id": "M9QR7SW_eDH3"
      },
      "source": [
        "**Here,training the model for Decision-Tree classifier:**"
      ]
    },
    {
      "cell_type": "code",
      "metadata": {
        "colab": {
          "base_uri": "https://localhost:8080/"
        },
        "id": "etbPor3RF_jb",
        "outputId": "c0c3aecc-19e6-4487-d45b-5afea3d135eb"
      },
      "source": [
        "X=a[:,[3,4,9,10]]\n",
        "X_train,X_test, Y_train, Y_test=train_test_split(X,Y, test_size=0.2,random_state=42)\n",
        "lm1= DecisionTreeClassifier() \n",
        "tree_model1=lm1.fit(X_train,Y_train)\n",
        "y_pred=tree_model1.predict(X_test)\n",
        "print(confusion_matrix(Y_test,y_pred))\n",
        "print(classification_report(Y_test,y_pred))"
      ],
      "execution_count": null,
      "outputs": [
        {
          "output_type": "stream",
          "text": [
            "[[ 0  0  0  1  0  0]\n",
            " [ 0  0  5  4  1  0]\n",
            " [ 2  5 92 26  4  1]\n",
            " [ 0  5 32 81 13  1]\n",
            " [ 0  0  7 15 19  1]\n",
            " [ 0  0  0  2  3  0]]\n",
            "              precision    recall  f1-score   support\n",
            "\n",
            "         3.0       0.00      0.00      0.00         1\n",
            "         4.0       0.00      0.00      0.00        10\n",
            "         5.0       0.68      0.71      0.69       130\n",
            "         6.0       0.63      0.61      0.62       132\n",
            "         7.0       0.47      0.45      0.46        42\n",
            "         8.0       0.00      0.00      0.00         5\n",
            "\n",
            "    accuracy                           0.60       320\n",
            "   macro avg       0.30      0.30      0.30       320\n",
            "weighted avg       0.60      0.60      0.60       320\n",
            "\n"
          ],
          "name": "stdout"
        }
      ]
    },
    {
      "cell_type": "code",
      "metadata": {
        "colab": {
          "base_uri": "https://localhost:8080/"
        },
        "id": "Qwy0A9cmF_pu",
        "outputId": "1a60e17a-3d2d-454b-9ee6-b13f3cf7043a"
      },
      "source": [
        "X=a[:,[3,4,9]]\n",
        "X_train,X_test, Y_train, Y_test=train_test_split(X,Y, test_size=0.2,random_state=42)\n",
        "lm2= DecisionTreeClassifier() \n",
        "tree_model2=lm2.fit(X_train,Y_train)\n",
        "y_pred=tree_model2.predict(X_test)\n",
        "print(confusion_matrix(Y_test,y_pred))\n",
        "print(classification_report(Y_test,y_pred))"
      ],
      "execution_count": null,
      "outputs": [
        {
          "output_type": "stream",
          "text": [
            "[[ 0  0  1  0  0  0]\n",
            " [ 0  0  4  5  1  0]\n",
            " [ 0  1 88 32  9  0]\n",
            " [ 0  3 45 67 16  1]\n",
            " [ 1  0  6 15 20  0]\n",
            " [ 0  0  1  1  3  0]]\n",
            "              precision    recall  f1-score   support\n",
            "\n",
            "         3.0       0.00      0.00      0.00         1\n",
            "         4.0       0.00      0.00      0.00        10\n",
            "         5.0       0.61      0.68      0.64       130\n",
            "         6.0       0.56      0.51      0.53       132\n",
            "         7.0       0.41      0.48      0.44        42\n",
            "         8.0       0.00      0.00      0.00         5\n",
            "\n",
            "    accuracy                           0.55       320\n",
            "   macro avg       0.26      0.28      0.27       320\n",
            "weighted avg       0.53      0.55      0.54       320\n",
            "\n"
          ],
          "name": "stdout"
        }
      ]
    },
    {
      "cell_type": "markdown",
      "metadata": {
        "id": "EDdHsExLxxkG"
      },
      "source": [
        "**SVM Algorithm:**\n",
        "SVM algorithm picks the one that has the maximum distance from the closest data points. Kernel SVM contains a non-linear transformation function to convert the complicated non-linearly separable data into linearly separable data.It performs the same in such a way that datasets belonging to different classes are allocated to different dimensions. "
      ]
    },
    {
      "cell_type": "code",
      "metadata": {
        "id": "13-lndvlORxb"
      },
      "source": [
        "X=a[:,0:-1]\n",
        "Y=a[:,11]\n",
        "X_train,X_test, Y_train, Y_test=train_test_split(X,Y, test_size=0.2,random_state=7)"
      ],
      "execution_count": null,
      "outputs": []
    },
    {
      "cell_type": "markdown",
      "metadata": {
        "id": "BqwOcsSOW5mr"
      },
      "source": [
        "**To Train Support Vector Machine Tree Model**"
      ]
    },
    {
      "cell_type": "code",
      "metadata": {
        "id": "h2oJvqC0s0CN",
        "colab": {
          "base_uri": "https://localhost:8080/"
        },
        "outputId": "208b2f4b-8ae8-4e65-a228-18c9131dabed"
      },
      "source": [
        "from sklearn.svm import SVC\n",
        "svm_model = SVC(gamma='auto')\n",
        "svm_model.fit(X_train,y_train)"
      ],
      "execution_count": null,
      "outputs": [
        {
          "output_type": "execute_result",
          "data": {
            "text/plain": [
              "SVC(C=1.0, break_ties=False, cache_size=200, class_weight=None, coef0=0.0,\n",
              "    decision_function_shape='ovr', degree=3, gamma='auto', kernel='rbf',\n",
              "    max_iter=-1, probability=False, random_state=None, shrinking=True,\n",
              "    tol=0.001, verbose=False)"
            ]
          },
          "metadata": {
            "tags": []
          },
          "execution_count": 132
        }
      ]
    },
    {
      "cell_type": "markdown",
      "metadata": {
        "id": "IDEP4W__YMt1"
      },
      "source": [
        " **To predict the Support Vector Machine model**"
      ]
    },
    {
      "cell_type": "code",
      "metadata": {
        "id": "vPR_yRj2s0Mu"
      },
      "source": [
        "predictions = svm_model.predict(X_test)"
      ],
      "execution_count": null,
      "outputs": []
    },
    {
      "cell_type": "markdown",
      "metadata": {
        "id": "NmZKGXBSkUEf"
      },
      "source": [
        "**To see the accuracy and classification-report of the SVM model through Classification-Performance Metrics.**"
      ]
    },
    {
      "cell_type": "code",
      "metadata": {
        "id": "F5jYYJqzs0YN",
        "colab": {
          "base_uri": "https://localhost:8080/"
        },
        "outputId": "03508dc6-bdbc-4851-b1dc-14763396ffa8"
      },
      "source": [
        "from sklearn import metrics\n",
        "print(confusion_matrix(y_test,predictions))\n",
        "print(classification_report(y_test,predictions))\n",
        "print('SVMClassifier Accuracy-Score: ',metrics.accuracy_score(y_test,predictions))"
      ],
      "execution_count": null,
      "outputs": [
        {
          "output_type": "stream",
          "text": [
            "[[ 0  0  2  0  0  0]\n",
            " [ 0  0  5  6  0  0]\n",
            " [ 0  0 81 55  0  0]\n",
            " [ 0  0 76 51  1  0]\n",
            " [ 0  0 22 18  0  0]\n",
            " [ 0  0  2  1  0  0]]\n",
            "              precision    recall  f1-score   support\n",
            "\n",
            "           3       0.00      0.00      0.00         2\n",
            "           4       0.00      0.00      0.00        11\n",
            "           5       0.43      0.60      0.50       136\n",
            "           6       0.39      0.40      0.39       128\n",
            "           7       0.00      0.00      0.00        40\n",
            "           8       0.00      0.00      0.00         3\n",
            "\n",
            "    accuracy                           0.41       320\n",
            "   macro avg       0.14      0.17      0.15       320\n",
            "weighted avg       0.34      0.41      0.37       320\n",
            "\n",
            "SVMClassifier Accuracy-Score:  0.4125\n"
          ],
          "name": "stdout"
        },
        {
          "output_type": "stream",
          "text": [
            "/usr/local/lib/python3.7/dist-packages/sklearn/metrics/_classification.py:1272: UndefinedMetricWarning: Precision and F-score are ill-defined and being set to 0.0 in labels with no predicted samples. Use `zero_division` parameter to control this behavior.\n",
            "  _warn_prf(average, modifier, msg_start, len(result))\n"
          ],
          "name": "stderr"
        }
      ]
    },
    {
      "cell_type": "code",
      "metadata": {
        "id": "P0HKXhY-_OrV"
      },
      "source": [
        "X=a[:,0:-1]\n",
        "Y=a[:,11]"
      ],
      "execution_count": null,
      "outputs": []
    },
    {
      "cell_type": "markdown",
      "metadata": {
        "id": "0GLKGdpTfQXD"
      },
      "source": [
        "**Selecting best features for SupportVectorMachine Model:**"
      ]
    },
    {
      "cell_type": "code",
      "metadata": {
        "colab": {
          "base_uri": "https://localhost:8080/"
        },
        "id": "twe5rQCT62jR",
        "outputId": "2a092d22-ed4f-4fa5-b4ca-be2f188a1dae"
      },
      "source": [
        "model2 = SVC(kernel='linear') \n",
        "rfe = RFE(model2, 4)\n",
        "fit = rfe.fit(X, Y)\n",
        "print(\"Num Features: \", fit.n_features_)\n",
        "print(\"Selected Features: \",fit.support_)\n",
        "print(\"Feature Ranking: \",fit.ranking_)"
      ],
      "execution_count": null,
      "outputs": [
        {
          "output_type": "stream",
          "text": [
            "Num Features:  4\n",
            "Selected Features:  [False  True False False False False False False  True  True  True]\n",
            "Feature Ranking:  [5 1 3 4 2 6 8 7 1 1 1]\n"
          ],
          "name": "stdout"
        }
      ]
    },
    {
      "cell_type": "markdown",
      "metadata": {
        "id": "5VIKLBQqfCTe"
      },
      "source": [
        "**Here,training the model for SupportVectorMachine Model:**"
      ]
    },
    {
      "cell_type": "code",
      "metadata": {
        "colab": {
          "base_uri": "https://localhost:8080/"
        },
        "id": "H__S9xZR65xu",
        "outputId": "516b610a-5177-4476-ea26-d8cdc0df10cb"
      },
      "source": [
        "X=a[:,[3,4,9,10]]\n",
        "X_train,X_test, Y_train, Y_test=train_test_split(X,Y, test_size=0.2,random_state=42)\n",
        "svm=SVC(kernel='linear') \n",
        "svmmodel=svm.fit(X_train,Y_train)\n",
        "y_pred=svmmodel.predict(X_test)\n",
        "print(confusion_matrix(Y_test,y_pred))\n",
        "print(classification_report(Y_test,y_pred))"
      ],
      "execution_count": null,
      "outputs": [
        {
          "output_type": "stream",
          "text": [
            "[[  0   0   1   0   0   0]\n",
            " [  0   0   6   4   0   0]\n",
            " [  0   0 107  23   0   0]\n",
            " [  0   0  58  74   0   0]\n",
            " [  0   0   4  38   0   0]\n",
            " [  0   0   0   5   0   0]]\n",
            "              precision    recall  f1-score   support\n",
            "\n",
            "         3.0       0.00      0.00      0.00         1\n",
            "         4.0       0.00      0.00      0.00        10\n",
            "         5.0       0.61      0.82      0.70       130\n",
            "         6.0       0.51      0.56      0.54       132\n",
            "         7.0       0.00      0.00      0.00        42\n",
            "         8.0       0.00      0.00      0.00         5\n",
            "\n",
            "    accuracy                           0.57       320\n",
            "   macro avg       0.19      0.23      0.21       320\n",
            "weighted avg       0.46      0.57      0.51       320\n",
            "\n"
          ],
          "name": "stdout"
        },
        {
          "output_type": "stream",
          "text": [
            "/usr/local/lib/python3.7/dist-packages/sklearn/metrics/_classification.py:1272: UndefinedMetricWarning: Precision and F-score are ill-defined and being set to 0.0 in labels with no predicted samples. Use `zero_division` parameter to control this behavior.\n",
            "  _warn_prf(average, modifier, msg_start, len(result))\n"
          ],
          "name": "stderr"
        }
      ]
    },
    {
      "cell_type": "code",
      "metadata": {
        "colab": {
          "base_uri": "https://localhost:8080/"
        },
        "id": "3KjLgR-pO5b6",
        "outputId": "a1dfe9da-c3bc-4324-bf3b-1e2ad1f7ddc3"
      },
      "source": [
        "X=a[:,[0,5,6,7]]\n",
        "X_train,X_test, Y_train, Y_test=train_test_split(X,Y, test_size=0.2,random_state=42)\n",
        "svm1=SVC(kernel='linear') \n",
        "svmmodel1=svm1.fit(X_train,Y_train)\n",
        "y_pred=svmmodel1.predict(X_test)\n",
        "print(confusion_matrix(Y_test,y_pred))\n",
        "print(classification_report(Y_test,y_pred))"
      ],
      "execution_count": null,
      "outputs": [
        {
          "output_type": "stream",
          "text": [
            "[[  0   0   0   1   0   0]\n",
            " [  0   0   1   9   0   0]\n",
            " [  0   0  46  84   0   0]\n",
            " [  0   0  21 111   0   0]\n",
            " [  0   0   3  39   0   0]\n",
            " [  0   0   1   4   0   0]]\n",
            "              precision    recall  f1-score   support\n",
            "\n",
            "         3.0       0.00      0.00      0.00         1\n",
            "         4.0       0.00      0.00      0.00        10\n",
            "         5.0       0.64      0.35      0.46       130\n",
            "         6.0       0.45      0.84      0.58       132\n",
            "         7.0       0.00      0.00      0.00        42\n",
            "         8.0       0.00      0.00      0.00         5\n",
            "\n",
            "    accuracy                           0.49       320\n",
            "   macro avg       0.18      0.20      0.17       320\n",
            "weighted avg       0.44      0.49      0.43       320\n",
            "\n"
          ],
          "name": "stdout"
        },
        {
          "output_type": "stream",
          "text": [
            "/usr/local/lib/python3.7/dist-packages/sklearn/metrics/_classification.py:1272: UndefinedMetricWarning: Precision and F-score are ill-defined and being set to 0.0 in labels with no predicted samples. Use `zero_division` parameter to control this behavior.\n",
            "  _warn_prf(average, modifier, msg_start, len(result))\n"
          ],
          "name": "stderr"
        }
      ]
    },
    {
      "cell_type": "markdown",
      "metadata": {
        "id": "RULWcArPx3h2"
      },
      "source": [
        "**KNN Algorithm:**\n",
        "It is a lazy learning algorithm since it doesn't have a specialized training phase. Rather, it uses all of the data for training while classifying a new data point or instance."
      ]
    },
    {
      "cell_type": "markdown",
      "metadata": {
        "id": "4DgMKXo9ZZAS"
      },
      "source": [
        "**To Train K-Nearest Neighbors Model**"
      ]
    },
    {
      "cell_type": "code",
      "metadata": {
        "id": "gbY_0NSjxVG2",
        "colab": {
          "base_uri": "https://localhost:8080/"
        },
        "outputId": "32063ac9-b67f-48bf-98ab-927603d2b16c"
      },
      "source": [
        "from sklearn.neighbors import KNeighborsClassifier\n",
        "knn_model = KNeighborsClassifier(n_neighbors=5)\n",
        "knn_model.fit(X_train, y_train)"
      ],
      "execution_count": null,
      "outputs": [
        {
          "output_type": "execute_result",
          "data": {
            "text/plain": [
              "KNeighborsClassifier(algorithm='auto', leaf_size=30, metric='minkowski',\n",
              "                     metric_params=None, n_jobs=None, n_neighbors=5, p=2,\n",
              "                     weights='uniform')"
            ]
          },
          "metadata": {
            "tags": []
          },
          "execution_count": 59
        }
      ]
    },
    {
      "cell_type": "markdown",
      "metadata": {
        "id": "8yX5j8qZZlX-"
      },
      "source": [
        " **To predict the K-Nearest Neighbors model**"
      ]
    },
    {
      "cell_type": "code",
      "metadata": {
        "id": "n7FAuj10xW4J"
      },
      "source": [
        "pre = knn_model.predict(X_test)"
      ],
      "execution_count": null,
      "outputs": []
    },
    {
      "cell_type": "markdown",
      "metadata": {
        "id": "zIswVKf_Zv1J"
      },
      "source": [
        "**To see the accuracy and classification-report of the K-Nearest Neighbors model through Classification-Performance Metrics.**"
      ]
    },
    {
      "cell_type": "code",
      "metadata": {
        "id": "H183hruWxXI1",
        "colab": {
          "base_uri": "https://localhost:8080/"
        },
        "outputId": "d2aef35f-89ad-4a44-f816-86e0d17fa46b"
      },
      "source": [
        "from sklearn import metrics\n",
        "print(confusion_matrix(y_test,pre))\n",
        "print(classification_report(y_test,pre))\n",
        "print('KNNClassifier Accuracy-Score: ',metrics.accuracy_score(y_test,pre))"
      ],
      "execution_count": null,
      "outputs": [
        {
          "output_type": "stream",
          "text": [
            "[[ 0  0  1  1  0  0]\n",
            " [ 0  0  8  3  0  0]\n",
            " [ 0  1 86 45  4  0]\n",
            " [ 0  0 55 64  9  0]\n",
            " [ 0  0 15 20  5  0]\n",
            " [ 0  0  0  1  2  0]]\n",
            "              precision    recall  f1-score   support\n",
            "\n",
            "           3       0.00      0.00      0.00         2\n",
            "           4       0.00      0.00      0.00        11\n",
            "           5       0.52      0.63      0.57       136\n",
            "           6       0.48      0.50      0.49       128\n",
            "           7       0.25      0.12      0.17        40\n",
            "           8       0.00      0.00      0.00         3\n",
            "\n",
            "    accuracy                           0.48       320\n",
            "   macro avg       0.21      0.21      0.20       320\n",
            "weighted avg       0.44      0.48      0.46       320\n",
            "\n",
            "KNNClassifier Accuracy-Score:  0.484375\n"
          ],
          "name": "stdout"
        },
        {
          "output_type": "stream",
          "text": [
            "/usr/local/lib/python3.7/dist-packages/sklearn/metrics/_classification.py:1272: UndefinedMetricWarning: Precision and F-score are ill-defined and being set to 0.0 in labels with no predicted samples. Use `zero_division` parameter to control this behavior.\n",
            "  _warn_prf(average, modifier, msg_start, len(result))\n"
          ],
          "name": "stderr"
        }
      ]
    },
    {
      "cell_type": "code",
      "metadata": {
        "id": "nF5fXhvt5QL4"
      },
      "source": [
        "X=data.drop(['quality'],axis=1)\n",
        "Y=data['quality'].values"
      ],
      "execution_count": null,
      "outputs": []
    },
    {
      "cell_type": "code",
      "metadata": {
        "colab": {
          "base_uri": "https://localhost:8080/"
        },
        "id": "dZXNceCg5RtH",
        "outputId": "7550e7ca-cfa0-4d4d-9907-7a7142ee29fa"
      },
      "source": [
        "testing=SelectKBest(chi2,k='all')\n",
        "score=testing.fit(X, Y)\n",
        "set_printoptions(precision=4)\n",
        "print(score.scores_)"
      ],
      "execution_count": null,
      "outputs": [
        {
          "output_type": "stream",
          "text": [
            "[1.1261e+01 1.5580e+01 1.3026e+01 4.1233e+00 7.5243e-01 1.6194e+02\n",
            " 2.7556e+03 2.3043e-04 1.5465e-01 4.5585e+00 4.6430e+01]\n"
          ],
          "name": "stdout"
        }
      ]
    },
    {
      "cell_type": "code",
      "metadata": {
        "id": "nYNQ6oXxINxy"
      },
      "source": [
        "X=a[:,0:-1]\n",
        "Y=a[:,11]"
      ],
      "execution_count": null,
      "outputs": []
    },
    {
      "cell_type": "markdown",
      "metadata": {
        "id": "HYv8R63AdZYq"
      },
      "source": [
        "**Selecting best features and training the model for KNN classifier:**"
      ]
    },
    {
      "cell_type": "code",
      "metadata": {
        "colab": {
          "base_uri": "https://localhost:8080/"
        },
        "id": "MchauLB6_cy0",
        "outputId": "09bce5cf-b3c3-4540-9085-8fbda155b18b"
      },
      "source": [
        "model3 = KNeighborsClassifier()\n",
        "rfe = RFE(model3, 4)\n",
        "fit = rfe.fit(X,Y)\n",
        "print(\"Num Features: \", fit.n_features_)\n",
        "print(\"Selected Features: \",fit.support_)\n",
        "print(\"Feature Ranking: \",fit.ranking_)"
      ],
      "execution_count": null,
      "outputs": [
        {
          "output_type": "stream",
          "text": [
            "Num Features:  4\n",
            "Selected Features:  [ True  True  True  True]\n",
            "Feature Ranking:  [1 1 1 1]\n"
          ],
          "name": "stdout"
        }
      ]
    },
    {
      "cell_type": "code",
      "metadata": {
        "colab": {
          "base_uri": "https://localhost:8080/"
        },
        "id": "muXNSiHVH_Eb",
        "outputId": "67a02407-3d0a-45bf-ba70-539cbfec56ca"
      },
      "source": [
        "X=a[:,[3,4,9,10]]\n",
        "X_train,X_test, Y_train, Y_test=train_test_split(X,Y, test_size=0.2,random_state=7)\n",
        "knn=KNeighborsClassifier(n_neighbors=7) \n",
        "knnmodel=knn.fit(X_train,Y_train)\n",
        "y_pred=knnmodel.predict(X_test)\n",
        "print(confusion_matrix(Y_test,y_pred))\n",
        "print(classification_report(Y_test,y_pred))"
      ],
      "execution_count": null,
      "outputs": [
        {
          "output_type": "stream",
          "text": [
            "[[ 0  7  2  1  0]\n",
            " [ 0 86 33  4  0]\n",
            " [ 0 47 83 16  0]\n",
            " [ 0  6 14 17  0]\n",
            " [ 0  1  0  3  0]]\n",
            "              precision    recall  f1-score   support\n",
            "\n",
            "         4.0       0.00      0.00      0.00        10\n",
            "         5.0       0.59      0.70      0.64       123\n",
            "         6.0       0.63      0.57      0.60       146\n",
            "         7.0       0.41      0.46      0.44        37\n",
            "         8.0       0.00      0.00      0.00         4\n",
            "\n",
            "    accuracy                           0.58       320\n",
            "   macro avg       0.33      0.35      0.33       320\n",
            "weighted avg       0.56      0.58      0.57       320\n",
            "\n"
          ],
          "name": "stdout"
        },
        {
          "output_type": "stream",
          "text": [
            "/usr/local/lib/python3.7/dist-packages/sklearn/metrics/_classification.py:1272: UndefinedMetricWarning: Precision and F-score are ill-defined and being set to 0.0 in labels with no predicted samples. Use `zero_division` parameter to control this behavior.\n",
            "  _warn_prf(average, modifier, msg_start, len(result))\n"
          ],
          "name": "stderr"
        }
      ]
    }
  ]
}